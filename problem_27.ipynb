{
 "cells": [
  {
   "cell_type": "code",
   "execution_count": 1,
   "metadata": {},
   "outputs": [
    {
     "name": "stdout",
     "output_type": "stream",
     "text": [
      "Solution:\n",
      "Objective value = 2.0\n",
      "Route for vehicle 0:\n",
      "[1, 2, 3, 10, 4, 13, 7, 6]\n",
      "Route for vehicle 1:\n",
      "[1, 12, 11, 5, 14, 8, 15, 9]\n"
     ]
    }
   ],
   "source": [
    "from ortools.linear_solver import pywraplp\n",
    "\n",
    "solver = pywraplp.Solver.CreateSolver('SCIP')\n",
    "\n",
    "if not solver:\n",
    "    print('Solver not created.')\n",
    "    exit()\n",
    "\n",
    "distance_matrix = [\n",
    "    [0, 20, 25, 35, 65, 90, 85, 80, 86, 25, 35, 20, 44, 35, 82],  # Heathrow\n",
    "    [20, 0, 15, 35, 60, 55, 57, 85, 90, 25, 35, 30, 37, 20, 40],  # Harrow\n",
    "    [25, 15, 0, 30, 50, 70, 55, 50, 65, 10, 25, 15, 24, 20, 90],  # Ealing\n",
    "    [35, 35, 30, 0, 45, 60, 53, 55, 47, 12, 22, 20, 12, 10, 21],  # Holborn\n",
    "    [65, 60, 50, 45, 0, 46, 15, 45, 75, 25, 11, 19, 15, 25, 25],  # Sutton\n",
    "    [90, 55, 70, 60, 46, 0, 15, 25, 45, 65, 53, 43, 63, 70, 27],  # Dartford\n",
    "    [85, 57, 55, 53, 15, 15, 0, 17, 25, 41, 25, 33, 27, 45, 30],  # Bromley\n",
    "    [80, 85, 50, 55, 45, 25, 17, 0, 25, 40, 34, 32, 20, 30, 10],  # Greenwich\n",
    "    [86, 90, 65, 47, 75, 45, 25, 25, 0, 65, 70, 72, 61, 45, 13],  # Barking\n",
    "    [25, 25, 10, 12, 25, 65, 41, 40, 65, 0, 20, 8, 7, 15, 25],    # Hammersmith\n",
    "    [35, 35, 25, 22, 11, 53, 25, 34, 70, 20, 0, 5, 12, 45, 65],   # Kingston\n",
    "    [20, 30, 15, 20, 19, 43, 33, 32, 72, 8, 5, 0, 14, 34, 56],    # Richmond\n",
    "    [44, 37, 24, 12, 15, 63, 27, 20, 61, 7, 12, 14, 0, 30, 40],   # Battersea\n",
    "    [35, 20, 20, 10, 25, 70, 45, 30, 45, 15, 45, 34, 30, 0, 27],  # Islington\n",
    "    [82, 40, 90, 21, 25, 27, 30, 10, 13, 25, 65, 56, 40, 27, 0]   # Woolwich\n",
    "]\n",
    "\n",
    "num_cities = len(distance_matrix)\n",
    "num_vehicles = 6\n",
    "\n",
    "used = [solver.BoolVar(f'vehicle_{i}_used') for i in range(num_vehicles)]\n",
    "path = [[[solver.BoolVar(f'vehicle_{k}_from_{i}_to_{j}') for j in range(num_cities)] for i in range(num_cities)] for k in range(num_vehicles)]\n",
    "visit = [[solver.BoolVar(f'vehicle_{k}_visits_city_{i}') for i in range(num_cities)] for k in range(num_vehicles)]\n",
    "u = [[solver.IntVar(0,num_cities, f'position_of_{i}_in_vehicle_{k}') for i in range(num_cities)] for k in range(num_vehicles)]\n",
    "\n",
    "for k in range(num_vehicles):\n",
    "    for i in range(num_cities):\n",
    "        solver.Add(path[k][i][i] == 0)  \n",
    "        solver.Add(visit[k][i] <= used[k])  \n",
    "        solver.Add(sum(path[k][j][i] for j in range(num_cities)) == visit[k][i])\n",
    "        solver.Add(sum(path[k][i][j] for j in range(num_cities)) == visit[k][i])  \n",
    "\n",
    "    solver.Add(sum(distance_matrix[i][j] * path[k][i][j] for i in range(num_cities) for j in range(1,num_cities)) <= 120)\n",
    "\n",
    "for i in range(num_cities):\n",
    "    if i == 0:\n",
    "        for k in range(num_vehicles):\n",
    "            solver.Add(visit[k][i] == used[k])\n",
    "    else:\n",
    "        solver.Add(sum(visit[k][i] for k in range(num_vehicles)) == 1)\n",
    "\n",
    "for k in range(num_vehicles):\n",
    "    solver.Add(sum(path[k][0][j] for j in range(1, num_cities)) == used[k])\n",
    "    solver.Add(sum(path[k][j][0] for j in range(1, num_cities)) == used[k])\n",
    "\n",
    "for k in range(num_vehicles):\n",
    "    for i in range(1, num_cities):\n",
    "        for j in range(1, num_cities):\n",
    "            if i != j:\n",
    "                solver.Add(u[k][i] - u[k][j] + num_cities * path[k][i][j] <= num_cities - 1)\n",
    "\n",
    "for k in range(num_vehicles):\n",
    "    for i in range(num_cities):\n",
    "        solver.Add(u[k][i] >= visit[k][i])\n",
    "        solver.Add(u[k][i] <= num_cities * visit[k][i])\n",
    "for i in range(6):\n",
    "    for j in range(6):\n",
    "        if i<=j:\n",
    "            solver.Add(sum(visit[i][k] for k in range(num_cities))>=sum(visit[j][k] for k in range(num_cities)))\n",
    "\n",
    "solver.Minimize(sum(used[k] for k in range(num_vehicles)))\n",
    "\n",
    "status = solver.Solve()\n",
    "\n",
    "if status == pywraplp.Solver.OPTIMAL:\n",
    "    print('Solution:')\n",
    "    print('Objective value =', solver.Objective().Value())\n",
    "    for k in range(num_vehicles):\n",
    "        if used[k].solution_value() == 1:\n",
    "            print(f'Route for vehicle {k}:')\n",
    "            route = []\n",
    "            current_city = 0\n",
    "            while True:\n",
    "                route.append(current_city+1)\n",
    "                next_city = None\n",
    "                for j in range(num_cities):\n",
    "                    if path[k][current_city][j].solution_value() > 0.5:\n",
    "                        next_city = j\n",
    "                        break\n",
    "                if next_city is None or next_city == 0:\n",
    "                    break\n",
    "                current_city = next_city\n",
    "            print(route)\n",
    "            total_distance = sum(distance_matrix[i][j] * path[k][i][j].solution_value() for i in range(num_cities) for j in range(1,num_cities))\n",
    "            #print(f'Total distance: {total_distance}')\n",
    "else:\n",
    "    print('The problem does not have an optimal solution.')"
   ]
  },
  {
   "cell_type": "code",
   "execution_count": 2,
   "metadata": {},
   "outputs": [
    {
     "name": "stdout",
     "output_type": "stream",
     "text": [
      "hello\n"
     ]
    }
   ],
   "source": []
  }
 ],
 "metadata": {
  "kernelspec": {
   "display_name": "Python 3",
   "language": "python",
   "name": "python3"
  },
  "language_info": {
   "codemirror_mode": {
    "name": "ipython",
    "version": 3
   },
   "file_extension": ".py",
   "mimetype": "text/x-python",
   "name": "python",
   "nbconvert_exporter": "python",
   "pygments_lexer": "ipython3",
   "version": "3.11.9"
  }
 },
 "nbformat": 4,
 "nbformat_minor": 2
}
