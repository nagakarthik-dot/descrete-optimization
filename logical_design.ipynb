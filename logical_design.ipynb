{
 "cells": [
  {
   "cell_type": "code",
   "execution_count": 11,
   "metadata": {},
   "outputs": [],
   "source": [
    "import gurobipy as gp\n",
    "from gurobipy import GRB\n"
   ]
  },
  {
   "cell_type": "code",
   "execution_count": 12,
   "metadata": {},
   "outputs": [],
   "source": [
    "gates = ['1','2','3','4','5','6','7']\n",
    "gates47 = ['4','5','6','7']\n",
    "rows = ['1','2','3','4']\n",
    "gatesRows, valueA, valueB = gp.multidict({\n",
    "    ('1','1'): [0,0],\n",
    "    ('1','2'): [0,1],\n",
    "    ('1','3'): [1,0],\n",
    "    ('1','4'): [1,1],\n",
    "    ('2','1'): [0,0],\n",
    "    ('2','2'): [0,1],\n",
    "    ('2','3'): [1,0],\n",
    "    ('2','4'): [1,1],\n",
    "    ('3','1'): [0,0],\n",
    "    ('3','2'): [0,1],\n",
    "    ('3','3'): [1,0],\n",
    "    ('3','4'): [1,1],\n",
    "    ('4','1'): [0,0],\n",
    "    ('4','2'): [0,1],\n",
    "    ('4','3'): [1,0],\n",
    "    ('4','4'): [1,1],\n",
    "    ('5','1'): [0,0],\n",
    "    ('5','2'): [0,1],\n",
    "    ('5','3'): [1,0],\n",
    "    ('5','4'): [1,1],\n",
    "    ('6','1'): [0,0],\n",
    "    ('6','2'): [0,1],\n",
    "    ('6','3'): [1,0],\n",
    "    ('6','4'): [1,1],\n",
    "    ('7','1'): [0,0],\n",
    "    ('7','2'): [0,1],\n",
    "    ('7','3'): [1,0],\n",
    "    ('7','4'): [1,1]\n",
    "})\n"
   ]
  },
  {
   "cell_type": "code",
   "execution_count": 13,
   "metadata": {},
   "outputs": [],
   "source": [
    "model = gp.Model('logicalDesign')\n",
    "\n",
    "NOR = model.addVars(gates, vtype=GRB.BINARY, name=\"NORgate\" )\n",
    "NOR['1'].lb = 1\n",
    "inputA = model.addVars(gates, vtype=GRB.BINARY, name=\"inputA\")\n",
    "inputB = model.addVars(gates, vtype=GRB.BINARY, name=\"inputB\")\n",
    "output = model.addVars(gatesRows, vtype=GRB.BINARY, name=\"output\")\n",
    "output['1','1'].ub = 0\n",
    "output['1','2'].lb = 1\n",
    "output['1','3'].lb = 1\n",
    "output['1','4'].ub = 0"
   ]
  },
  {
   "cell_type": "code",
   "execution_count": 14,
   "metadata": {},
   "outputs": [],
   "source": [
    "externalInputsA = model.addConstrs( ( NOR[i] >= inputA[i]  for i in gates), name='externalInputsA')\n",
    "externalInputsB = model.addConstrs( ( NOR[i] >= inputB[i]  for i in gates), name='externalInputsB')"
   ]
  },
  {
   "cell_type": "code",
   "execution_count": 15,
   "metadata": {},
   "outputs": [],
   "source": [
    "NORgate1 = model.addConstr(NOR['2'] + NOR['3'] + inputA['1'] + inputB['1'] <= 2, name='NORgate1')\n",
    "NORgate2 = model.addConstr(NOR['4'] + NOR['5'] + inputA['2'] + inputB['2'] <= 2, name='NORgate2')\n",
    "NORgate3 = model.addConstr(NOR['6'] + NOR['7'] + inputA['3'] + inputB['3'] <= 2, name='NORgate3')"
   ]
  },
  {
   "cell_type": "code",
   "execution_count": 16,
   "metadata": {},
   "outputs": [],
   "source": [
    "outputSignals1_1 = model.addConstrs( (output['2',r] + output['1',r] <= 1 for r in rows), name='outputSignals1_1' )\n",
    "\n",
    "outputSignals1_2 = model.addConstrs( (output['3',r] + output['1',r] <= 1 for r in rows), name='outputSignals1_2' )\n",
    "\n",
    "outputSignals2_1 = model.addConstrs( (output['4',r] + output['2',r] <= 1 for r in rows), name='outputSignals2_1' )\n",
    "\n",
    "outputSignals2_2 = model.addConstrs( (output['5',r] + output['2',r] <= 1 for r in rows), name='outputSignals2_2' )\n",
    "\n",
    "outputSignals3_1 = model.addConstrs( (output['6',r] + output['3',r] <= 1 for r in rows), name='outputSignals3_1' )\n",
    "\n",
    "outputSignals3_2 = model.addConstrs( (output['7',r] + output['3',r] <= 1 for r in rows), name='outputSignals3_2' )\n",
    "\n",
    "\n",
    "outputSignals4 = model.addConstrs( (valueA[i,r]*inputA[i] + output[i,r] <= 1 for i,r in gatesRows), name='outputSignals4')\n",
    "\n",
    "outputSignals5 = model.addConstrs( (valueB[i,r]*inputB[i] + output[i,r] <= 1 for i,r in gatesRows), name='outputSignals5')\n",
    "\n",
    "outputSignals6 = model.addConstrs( (valueA[i,r]*inputA[i] + valueB[i,r]*inputB[i] + output[i,r] - NOR[i] >= 0 \n",
    "                                    for i,r in gatesRows if i in gates47), name='outputSignals6')\n",
    "\n",
    "outputSignals7 = model.addConstrs( (valueA['1',r]*inputA['1'] + valueB['1',r]*inputB['1'] \n",
    "                                    + output['2',r] + output['3',r] + output['1',r] - NOR['1'] >= 0\n",
    "                                    for i,r in gatesRows), name='outputSignals7')\n",
    "\n",
    "outputSignals8 = model.addConstrs( (valueA['2',r]*inputA['2'] + valueB['2',r]*inputB['2'] \n",
    "                                    + output['4',r] + output['5',r] + output['2',r] - NOR['2'] >= 0\n",
    "                                    for i,r in gatesRows), name='outputSignals8')\n",
    "\n",
    "outputSignals9 = model.addConstrs( (valueA['3',r]*inputA['3'] + valueB['3',r]*inputB['3'] \n",
    "                                    + output['6',r] + output['7',r] + output['3',r] - NOR['3'] >= 0\n",
    "                                    for i,r in gatesRows), name='outputSignals9')"
   ]
  },
  {
   "cell_type": "code",
   "execution_count": 17,
   "metadata": {},
   "outputs": [],
   "source": [
    "gateOutput = model.addConstrs( (NOR[i] - output[i,r] >= 0 for i,r in gatesRows) , name='gateOutput')"
   ]
  },
  {
   "cell_type": "code",
   "execution_count": 18,
   "metadata": {},
   "outputs": [],
   "source": [
    "model.setObjective(NOR.sum(), GRB.MINIMIZE)"
   ]
  },
  {
   "cell_type": "code",
   "execution_count": 19,
   "metadata": {},
   "outputs": [
    {
     "name": "stdout",
     "output_type": "stream",
     "text": [
      "Gurobi Optimizer version 11.0.2 build v11.0.2rc0 (win64 - Windows 11.0 (22631.2))\n",
      "\n",
      "CPU model: 12th Gen Intel(R) Core(TM) i7-1255U, instruction set [SSE2|AVX|AVX2]\n",
      "Thread count: 10 physical cores, 12 logical processors, using up to 12 threads\n",
      "\n",
      "Optimize a model with 225 rows, 49 columns and 696 nonzeros\n",
      "Model fingerprint: 0x9adba516\n",
      "Variable types: 0 continuous, 49 integer (49 binary)\n",
      "Coefficient statistics:\n",
      "  Matrix range     [1e+00, 1e+00]\n",
      "  Objective range  [1e+00, 1e+00]\n",
      "  Bounds range     [1e+00, 1e+00]\n",
      "  RHS range        [1e+00, 2e+00]\n",
      "Presolve removed 225 rows and 49 columns\n",
      "Presolve time: 0.00s\n",
      "Presolve: All rows and columns removed\n",
      "\n",
      "Explored 0 nodes (0 simplex iterations) in 0.02 seconds (0.00 work units)\n",
      "Thread count was 1 (of 12 available processors)\n",
      "\n",
      "Solution count 1: 5 \n",
      "\n",
      "Optimal solution found (tolerance 1.00e-04)\n",
      "Best objective 5.000000000000e+00, best bound 5.000000000000e+00, gap 0.0000%\n"
     ]
    }
   ],
   "source": [
    "model.write('logicalDesign.lp')\n",
    "model.optimize()"
   ]
  },
  {
   "cell_type": "code",
   "execution_count": 20,
   "metadata": {},
   "outputs": [
    {
     "name": "stdout",
     "output_type": "stream",
     "text": [
      "NOR gate 1 is active.\n",
      "NOR gate 2 is active, with external inputs A and B values of 1.0 and  1.0.\n",
      "NOR gate 3 is active.\n",
      "NOR gate 6 is active, with external inputs A and B values of 0.0 and  1.0.\n",
      "NOR gate 7 is active, with external inputs A and B values of 1.0 and  0.0.\n"
     ]
    }
   ],
   "source": [
    "for i in gates:\n",
    "    if (NOR[i].x > 0.5):\n",
    "        if (inputA[i].x + inputB[i].x > 0.5):\n",
    "            print(f\"NOR gate {i} is active, with external inputs A and B values of {inputA[i].x} and  {inputB[i].x}.\")\n",
    "        else:\n",
    "            print(f\"NOR gate {i} is active.\")"
   ]
  }
 ],
 "metadata": {
  "kernelspec": {
   "display_name": "Python 3",
   "language": "python",
   "name": "python3"
  },
  "language_info": {
   "codemirror_mode": {
    "name": "ipython",
    "version": 3
   },
   "file_extension": ".py",
   "mimetype": "text/x-python",
   "name": "python",
   "nbconvert_exporter": "python",
   "pygments_lexer": "ipython3",
   "version": "3.11.9"
  }
 },
 "nbformat": 4,
 "nbformat_minor": 2
}
