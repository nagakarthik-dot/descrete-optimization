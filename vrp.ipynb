{
 "cells": [
  {
   "cell_type": "code",
   "execution_count": 27,
   "metadata": {},
   "outputs": [
    {
     "name": "stdout",
     "output_type": "stream",
     "text": [
      "Demand: [0, 7, 30, 16, 9, 21, 15, 19, 23, 11, 5, 19, 29, 23, 21, 10]\n",
      "X coordinates: [30.0, 37.0, 49.0, 52.0, 20.0, 40.0, 21.0, 17.0, 31.0, 52.0, 51.0, 42.0, 31.0, 5.0, 12.0, 36.0]\n",
      "Y coordinates: [40.0, 52.0, 49.0, 64.0, 26.0, 30.0, 47.0, 63.0, 62.0, 33.0, 21.0, 41.0, 32.0, 25.0, 42.0, 16.0]\n"
     ]
    }
   ],
   "source": [
    "demand = []\n",
    "x = []\n",
    "y = []\n",
    "\n",
    "with open(\"vrp_16_3_1\") as file:\n",
    "    next(file)\n",
    "    for line in file:\n",
    "        values = line.split()\n",
    "        if len(values) == 3:\n",
    "            d, x_coord, y_coord = values\n",
    "            demand.append(int(d))\n",
    "            x.append(float(x_coord))\n",
    "            y.append(float(y_coord))\n",
    "\n",
    "print(\"Demand:\", demand)\n",
    "print(\"X coordinates:\", x)\n",
    "print(\"Y coordinates:\", y)\n"
   ]
  },
  {
   "cell_type": "code",
   "execution_count": 28,
   "metadata": {},
   "outputs": [],
   "source": [
    "def distance(x1,y1,x2,y2):\n",
    "    return ((x1-x2)**2+(y1-y2)**2)**0.5"
   ]
  },
  {
   "cell_type": "code",
   "execution_count": 29,
   "metadata": {},
   "outputs": [
    {
     "name": "stdout",
     "output_type": "stream",
     "text": [
      "[[0, 0, 0, 0, 0, 0, 0, 0, 0, 0, 0, 0, 0, 0, 0, 0], [0, 0, 0, 0, 0, 0, 0, 0, 0, 0, 0, 0, 0, 0, 0, 0], [0, 0, 0, 0, 0, 0, 0, 0, 0, 0, 0, 0, 0, 0, 0, 0], [0, 0, 0, 0, 0, 0, 0, 0, 0, 0, 0, 0, 0, 0, 0, 0], [0, 0, 0, 0, 0, 0, 0, 0, 0, 0, 0, 0, 0, 0, 0, 0], [0, 0, 0, 0, 0, 0, 0, 0, 0, 0, 0, 0, 0, 0, 0, 0], [0, 0, 0, 0, 0, 0, 0, 0, 0, 0, 0, 0, 0, 0, 0, 0], [0, 0, 0, 0, 0, 0, 0, 0, 0, 0, 0, 0, 0, 0, 0, 0], [0, 0, 0, 0, 0, 0, 0, 0, 0, 0, 0, 0, 0, 0, 0, 0], [0, 0, 0, 0, 0, 0, 0, 0, 0, 0, 0, 0, 0, 0, 0, 0], [0, 0, 0, 0, 0, 0, 0, 0, 0, 0, 0, 0, 0, 0, 0, 0], [0, 0, 0, 0, 0, 0, 0, 0, 0, 0, 0, 0, 0, 0, 0, 0], [0, 0, 0, 0, 0, 0, 0, 0, 0, 0, 0, 0, 0, 0, 0, 0], [0, 0, 0, 0, 0, 0, 0, 0, 0, 0, 0, 0, 0, 0, 0, 0], [0, 0, 0, 0, 0, 0, 0, 0, 0, 0, 0, 0, 0, 0, 0, 0], [0, 0, 0, 0, 0, 0, 0, 0, 0, 0, 0, 0, 0, 0, 0, 0]]\n",
      "[[0.0, 13.892443989449804, 21.02379604162864, 32.55764119219941, 17.204650534085253, 14.142135623730951, 11.40175425099138, 26.419689627245813, 22.02271554554524, 23.08679276123039, 28.319604517012593, 12.041594578792296, 8.06225774829855, 29.154759474226502, 18.110770276274835, 24.73863375370596], [13.892443989449804, 0.0, 12.36931687685298, 19.209372712298546, 31.064449134018133, 22.20360331117452, 16.76305461424021, 22.825424421026653, 11.661903789690601, 24.20743687382041, 34.0147027033899, 12.083045973594572, 20.8806130178211, 41.86884283091664, 26.92582403567252, 36.013886210738214], [21.02379604162864, 12.36931687685298, 0.0, 15.297058540778355, 37.013511046643494, 21.02379604162864, 28.071337695236398, 34.92849839314596, 22.20360331117452, 16.278820596099706, 28.071337695236398, 10.63014581273465, 24.758836806279895, 50.11985634456667, 37.656340767525464, 35.4682957019364], [32.55764119219941, 19.209372712298546, 15.297058540778355, 0.0, 49.678969393496885, 36.05551275463989, 35.35533905932738, 35.014282800023196, 21.095023109728988, 31.0, 43.01162633521314, 25.079872407968907, 38.27531841800928, 61.07372593840988, 45.65084884205331, 50.59644256269407], [17.204650534085253, 31.064449134018133, 37.013511046643494, 49.678969393496885, 0.0, 20.396078054371138, 21.02379604162864, 37.12142238654117, 37.64306044943742, 32.7566787083184, 31.400636936215164, 26.627053911388696, 12.529964086141668, 15.033296378372908, 17.88854381999832, 18.867962264113206], [14.142135623730951, 22.20360331117452, 21.02379604162864, 36.05551275463989, 20.396078054371138, 0.0, 25.495097567963924, 40.22437072223753, 33.24154027718932, 12.36931687685298, 14.212670403551895, 11.180339887498949, 9.219544457292887, 35.35533905932738, 30.463092423455635, 14.560219778561036], [11.40175425099138, 16.76305461424021, 28.071337695236398, 35.35533905932738, 21.02379604162864, 25.495097567963924, 0.0, 16.492422502470642, 18.027756377319946, 34.0147027033899, 39.698866482558415, 21.840329667841555, 18.027756377319946, 27.202941017470888, 10.295630140987, 34.438350715445125], [26.419689627245813, 22.825424421026653, 34.92849839314596, 35.014282800023196, 37.12142238654117, 40.22437072223753, 16.492422502470642, 0.0, 14.035668847618199, 46.09772228646444, 54.037024344425184, 33.301651610693426, 34.0147027033899, 39.84971769034255, 21.587033144922902, 50.695167422546305], [22.02271554554524, 11.661903789690601, 22.20360331117452, 21.095023109728988, 37.64306044943742, 33.24154027718932, 18.027756377319946, 14.035668847618199, 0.0, 35.805027579936315, 45.617978911828175, 23.706539182259394, 30.0, 45.221676218380054, 27.586228448267445, 46.2709412050371], [23.08679276123039, 24.20743687382041, 16.278820596099706, 31.0, 32.7566787083184, 12.36931687685298, 34.0147027033899, 46.09772228646444, 35.805027579936315, 0.0, 12.041594578792296, 12.806248474865697, 21.02379604162864, 47.67598976424087, 41.0, 23.345235059857504], [28.319604517012593, 34.0147027033899, 28.071337695236398, 43.01162633521314, 31.400636936215164, 14.212670403551895, 39.698866482558415, 54.037024344425184, 45.617978911828175, 12.041594578792296, 0.0, 21.93171219946131, 22.825424421026653, 46.17358552246078, 44.294469180700204, 15.811388300841896], [12.041594578792296, 12.083045973594572, 10.63014581273465, 25.079872407968907, 26.627053911388696, 11.180339887498949, 21.840329667841555, 33.301651610693426, 23.706539182259394, 12.806248474865697, 21.93171219946131, 0.0, 14.212670403551895, 40.311288741492746, 30.01666203960727, 25.709920264364882], [8.06225774829855, 20.8806130178211, 24.758836806279895, 38.27531841800928, 12.529964086141668, 9.219544457292887, 18.027756377319946, 34.0147027033899, 30.0, 21.02379604162864, 22.825424421026653, 14.212670403551895, 0.0, 26.92582403567252, 21.470910553583888, 16.76305461424021], [29.154759474226502, 41.86884283091664, 50.11985634456667, 61.07372593840988, 15.033296378372908, 35.35533905932738, 27.202941017470888, 39.84971769034255, 45.221676218380054, 47.67598976424087, 46.17358552246078, 40.311288741492746, 26.92582403567252, 0.0, 18.384776310850235, 32.28002478313795], [18.110770276274835, 26.92582403567252, 37.656340767525464, 45.65084884205331, 17.88854381999832, 30.463092423455635, 10.295630140987, 21.587033144922902, 27.586228448267445, 41.0, 44.294469180700204, 30.01666203960727, 21.470910553583888, 18.384776310850235, 0.0, 35.38361202590826], [24.73863375370596, 36.013886210738214, 35.4682957019364, 50.59644256269407, 18.867962264113206, 14.560219778561036, 34.438350715445125, 50.695167422546305, 46.2709412050371, 23.345235059857504, 15.811388300841896, 25.709920264364882, 16.76305461424021, 32.28002478313795, 35.38361202590826, 0.0]]\n"
     ]
    }
   ],
   "source": [
    "distance_matrix = [[0 for _ in range(len(demand))] for _ in range(len(demand))]\n",
    "print(distance_matrix)\n",
    "for i in range(len(demand)):\n",
    "    for j in range(len(demand)):\n",
    "        temp=distance(x[i],y[i],x[j],y[j])\n",
    "        distance_matrix[i][j]=temp\n",
    "print(distance_matrix)\n",
    "\n"
   ]
  },
  {
   "cell_type": "code",
   "execution_count": 30,
   "metadata": {},
   "outputs": [],
   "source": [
    "def get_node(link):\n",
    "    link = link[1:]\n",
    "    link = link[:-1]\n",
    "    nodes = link.split(',')\n",
    "    return [int(nodes[0]), int(nodes[1])]"
   ]
  },
  {
   "cell_type": "code",
   "execution_count": 31,
   "metadata": {},
   "outputs": [],
   "source": [
    "def interior(node, route):\n",
    "    try:\n",
    "        i = route.index(node)\n",
    "        # adjacent to depot, not interior\n",
    "        if i == 0 or i == (len(route) - 1):\n",
    "            label = False\n",
    "        else:\n",
    "            label = True\n",
    "    except:\n",
    "        label = False\n",
    "    \n",
    "    return label"
   ]
  },
  {
   "cell_type": "code",
   "execution_count": 32,
   "metadata": {},
   "outputs": [],
   "source": [
    "def merge(route0, route1, link):\n",
    "    if route0.index(link[0]) != (len(route0) - 1):\n",
    "        route0.reverse()\n",
    "    \n",
    "    if route1.index(link[1]) != 0:\n",
    "        route1.reverse()\n",
    "        \n",
    "    return route0 + route1"
   ]
  },
  {
   "cell_type": "code",
   "execution_count": 33,
   "metadata": {},
   "outputs": [],
   "source": [
    "def sum_cap(route):\n",
    "    sum_cap = 0\n",
    "    for node in route:\n",
    "        sum_cap += demand[node]\n",
    "    return sum_cap"
   ]
  },
  {
   "cell_type": "code",
   "execution_count": 34,
   "metadata": {},
   "outputs": [],
   "source": [
    "def which_route(link, routes):\n",
    "    # assume nodes are not in any route\n",
    "    node_sel = list()\n",
    "    i_route = [-1, -1]\n",
    "    count_in = 0\n",
    "    \n",
    "    for route in routes:\n",
    "        for node in link:\n",
    "            try:\n",
    "                route.index(node)\n",
    "                i_route[count_in] = routes.index(route)\n",
    "                node_sel.append(node)\n",
    "                count_in += 1\n",
    "            except:\n",
    "                pass\n",
    "                \n",
    "    if i_route[0] == i_route[1]:\n",
    "        overlap = 1\n",
    "    else:\n",
    "        overlap = 0\n",
    "        \n",
    "    return node_sel, count_in, i_route, overlap"
   ]
  },
  {
   "cell_type": "code",
   "execution_count": 35,
   "metadata": {},
   "outputs": [
    {
     "ename": "NameError",
     "evalue": "name 'sv' is not defined",
     "output_type": "error",
     "traceback": [
      "\u001b[1;31m---------------------------------------------------------------------------\u001b[0m",
      "\u001b[1;31mNameError\u001b[0m                                 Traceback (most recent call last)",
      "Cell \u001b[1;32mIn[35], line 18\u001b[0m\n\u001b[0;32m     15\u001b[0m node_list\u001b[38;5;241m.\u001b[39mremove(\u001b[38;5;241m0\u001b[39m)\n\u001b[0;32m     17\u001b[0m \u001b[38;5;66;03m# run through each link in the saving list\u001b[39;00m\n\u001b[1;32m---> 18\u001b[0m \u001b[38;5;28;01mfor\u001b[39;00m link \u001b[38;5;129;01min\u001b[39;00m \u001b[43msv\u001b[49m\u001b[38;5;241m.\u001b[39mindex:\n\u001b[0;32m     19\u001b[0m     step \u001b[38;5;241m+\u001b[39m\u001b[38;5;241m=\u001b[39m \u001b[38;5;241m1\u001b[39m\n\u001b[0;32m     20\u001b[0m     \u001b[38;5;28;01mif\u001b[39;00m remaining:\n",
      "\u001b[1;31mNameError\u001b[0m: name 'sv' is not defined"
     ]
    }
   ],
   "source": [
    "# create empty routes\n",
    "routes = list()\n",
    "\n",
    "# if there is any remaining customer to be served\n",
    "remaining = True\n",
    "\n",
    "# define capacity of the vehicle\n",
    "cap = 23\n",
    "\n",
    "# record steps\n",
    "step = 0\n",
    "\n",
    "# get a list of nodes, excluding the depot\n",
    "node_list = list(range(len(demand)))\n",
    "node_list.remove(0)\n",
    "\n",
    "# run through each link in the saving list\n",
    "for link in sv.index:\n",
    "    step += 1\n",
    "    if remaining:\n",
    "\n",
    "        print('step ', step, ':')\n",
    "\n",
    "        link = get_node(link)\n",
    "        node_sel, num_in, i_route, overlap = which_route(link, routes)\n",
    "\n",
    "        # condition a. Either, neither i nor j have already been assigned to a route, \n",
    "        # ...in which case a new route is initiated including both i and j.\n",
    "        if num_in == 0:\n",
    "            if sum_cap(link) <= cap:\n",
    "                routes.append(link)\n",
    "                node_list.remove(link[0])\n",
    "                node_list.remove(link[1])\n",
    "                print('\\t','Link ', link, ' fulfills criteria a), so it is created as a new route')\n",
    "            else:\n",
    "                print('\\t','Though Link ', link, ' fulfills criteria a), it exceeds maximum load, so skip this link.')\n",
    "\n",
    "        # condition b. Or, exactly one of the two nodes (i or j) has already been included \n",
    "        # ...in an existing route and that point is not interior to that route \n",
    "        # ...(a point is interior to a route if it is not adjacent to the depot D in the order of traversal of nodes), \n",
    "        # ...in which case the link (i, j) is added to that same route.    \n",
    "        elif num_in == 1:\n",
    "            n_sel = node_sel[0]\n",
    "            i_rt = i_route[0]\n",
    "            position = routes[i_rt].index(n_sel)\n",
    "            link_temp = link.copy()\n",
    "            link_temp.remove(n_sel)\n",
    "            node = link_temp[0]\n",
    "\n",
    "            cond1 = (not interior(n_sel, routes[i_rt]))\n",
    "            cond2 = (sum_cap(routes[i_rt] + [node]) <= cap)\n",
    "\n",
    "            if cond1:\n",
    "                if cond2:\n",
    "                    print('\\t','Link ', link, ' fulfills criteria b), so a new node is added to route ', routes[i_rt], '.')\n",
    "                    if position == 0:\n",
    "                        routes[i_rt].insert(0, node)\n",
    "                    else:\n",
    "                        routes[i_rt].append(node)\n",
    "                    node_list.remove(node)\n",
    "                else:\n",
    "                    print('\\t','Though Link ', link, ' fulfills criteria b), it exceeds maximum load, so skip this link.')\n",
    "                    continue\n",
    "            else:\n",
    "                print('\\t','For Link ', link, ', node ', n_sel, ' is interior to route ', routes[i_rt], ', so skip this link')\n",
    "                continue\n",
    "\n",
    "        # condition c. Or, both i and j have already been included in two different existing routes \n",
    "        # ...and neither point is interior to its route, in which case the two routes are merged.        \n",
    "        else:\n",
    "            if overlap == 0:\n",
    "                cond1 = (not interior(node_sel[0], routes[i_route[0]]))\n",
    "                cond2 = (not interior(node_sel[1], routes[i_route[1]]))\n",
    "                cond3 = (sum_cap(routes[i_route[0]] + routes[i_route[1]]) <= cap)\n",
    "\n",
    "                if cond1 and cond2:\n",
    "                    if cond3:\n",
    "                        route_temp = merge(routes[i_route[0]], routes[i_route[1]], node_sel)\n",
    "                        temp1 = routes[i_route[0]]\n",
    "                        temp2 = routes[i_route[1]]\n",
    "                        routes.remove(temp1)\n",
    "                        routes.remove(temp2)\n",
    "                        routes.append(route_temp)\n",
    "                        try:\n",
    "                            node_list.remove(link[0])\n",
    "                            node_list.remove(link[1])\n",
    "                        except:\n",
    "                            #print('\\t', f\"Node {link[0]} or {link[1]} has been removed in a previous step.\")\n",
    "                            pass\n",
    "                        print('\\t','Link ', link, ' fulfills criteria c), so route ', temp1, ' and route ', temp2, ' are merged')\n",
    "                    else:\n",
    "                        print('\\t','Though Link ', link, ' fulfills criteria c), it exceeds maximum load, so skip this link.')\n",
    "                        continue\n",
    "                else:\n",
    "                    print('\\t','For link ', link, ', Two nodes are found in two different routes, but not all the nodes fulfill interior requirement, so skip this link')\n",
    "                    continue\n",
    "            else:\n",
    "                print('\\t','Link ', link, ' is already included in the routes')\n",
    "                continue\n",
    "\n",
    "        for route in routes: \n",
    "            print('\\t','route: ', route, ' with load ', sum_cap(route))\n",
    "    else:\n",
    "        print('-------')\n",
    "        print('All nodes are included in the routes, algorithm closed')\n",
    "        break\n",
    "\n",
    "    remaining = bool(len(node_list) > 0)\n",
    "\n",
    "# check if any node is left, assign to a unique route\n",
    "for node_o in node_list:\n",
    "    routes.append([node_o])\n",
    "\n",
    "# add depot to the routes\n",
    "for route in routes:\n",
    "    route.insert(0,0)\n",
    "    route.append(0)\n",
    "\n",
    "print('------')\n",
    "print('Routes found are: ')\n",
    "\n",
    "routes"
   ]
  }
 ],
 "metadata": {
  "kernelspec": {
   "display_name": "Python 3",
   "language": "python",
   "name": "python3"
  },
  "language_info": {
   "codemirror_mode": {
    "name": "ipython",
    "version": 3
   },
   "file_extension": ".py",
   "mimetype": "text/x-python",
   "name": "python",
   "nbconvert_exporter": "python",
   "pygments_lexer": "ipython3",
   "version": "3.11.9"
  }
 },
 "nbformat": 4,
 "nbformat_minor": 2
}
