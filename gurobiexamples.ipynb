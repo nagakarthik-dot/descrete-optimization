{
 "cells": [
  {
   "cell_type": "code",
   "execution_count": 1,
   "metadata": {},
   "outputs": [
    {
     "name": "stdout",
     "output_type": "stream",
     "text": [
      "Requirement already satisfied: gurobipy in c:\\users\\olw09\\appdata\\local\\packages\\pythonsoftwarefoundation.python.3.11_qbz5n2kfra8p0\\localcache\\local-packages\\python311\\site-packages (11.0.2)\n"
     ]
    },
    {
     "name": "stderr",
     "output_type": "stream",
     "text": [
      "\n",
      "[notice] A new release of pip is available: 24.0 -> 24.1.2\n",
      "[notice] To update, run: C:\\Users\\olw09\\AppData\\Local\\Microsoft\\WindowsApps\\PythonSoftwareFoundation.Python.3.11_qbz5n2kfra8p0\\python.exe -m pip install --upgrade pip\n"
     ]
    }
   ],
   "source": [
    "!pip install gurobipy\n"
   ]
  },
  {
   "cell_type": "code",
   "execution_count": 24,
   "metadata": {},
   "outputs": [
    {
     "name": "stdout",
     "output_type": "stream",
     "text": [
      "49\n",
      "Gurobi Optimizer version 11.0.2 build v11.0.2rc0 (win64 - Windows 11.0 (22631.2))\n",
      "\n",
      "CPU model: 12th Gen Intel(R) Core(TM) i7-1255U, instruction set [SSE2|AVX|AVX2]\n",
      "Thread count: 10 physical cores, 12 logical processors, using up to 12 threads\n",
      "\n",
      "Optimize a model with 99 rows, 76 columns and 419 nonzeros\n",
      "Model fingerprint: 0xf7452865\n",
      "Variable types: 0 continuous, 76 integer (76 binary)\n",
      "Coefficient statistics:\n",
      "  Matrix range     [1e+00, 1e+00]\n",
      "  Objective range  [1e+00, 1e+00]\n",
      "  Bounds range     [1e+00, 1e+00]\n",
      "  RHS range        [1e+00, 1e+01]\n",
      "Found heuristic solution: objective 7.0000000\n",
      "Presolve time: 0.00s\n",
      "Presolved: 99 rows, 76 columns, 419 nonzeros\n",
      "Variable types: 0 continuous, 76 integer (76 binary)\n",
      "\n",
      "Root relaxation: objective 0.000000e+00, 40 iterations, 0.00 seconds (0.00 work units)\n",
      "\n",
      "    Nodes    |    Current Node    |     Objective Bounds      |     Work\n",
      " Expl Unexpl |  Obj  Depth IntInf | Incumbent    BestBd   Gap | It/Node Time\n",
      "\n",
      "     0     0    0.00000    0    8    7.00000    0.00000   100%     -    0s\n",
      "H    0     0                       5.0000000    0.00000   100%     -    0s\n",
      "     0     0    0.00000    0   21    5.00000    0.00000   100%     -    0s\n",
      "H    0     0                       4.0000000    0.00000   100%     -    0s\n",
      "     0     0    0.00000    0   16    4.00000    0.00000   100%     -    0s\n",
      "     0     0    0.00000    0   22    4.00000    0.00000   100%     -    0s\n",
      "     0     0    0.66667    0    8    4.00000    0.66667  83.3%     -    0s\n",
      "     0     0    0.66667    0   23    4.00000    0.66667  83.3%     -    0s\n",
      "     0     0    0.83333    0   18    4.00000    0.83333  79.2%     -    0s\n",
      "     0     0    0.85714    0   22    4.00000    0.85714  78.6%     -    0s\n",
      "     0     0    1.00000    0   18    4.00000    1.00000  75.0%     -    0s\n",
      "     0     0    1.00000    0   18    4.00000    1.00000  75.0%     -    0s\n",
      "     0     2    1.00000    0   18    4.00000    1.00000  75.0%     -    0s\n",
      "\n",
      "Cutting planes:\n",
      "  Gomory: 1\n",
      "  Zero half: 1\n",
      "\n",
      "Explored 198 nodes (2071 simplex iterations) in 0.10 seconds (0.03 work units)\n",
      "Thread count was 12 (of 12 available processors)\n",
      "\n",
      "Solution count 3: 4 5 7 \n",
      "\n",
      "Optimal solution found (tolerance 1.00e-04)\n",
      "Best objective 4.000000000000e+00, best bound 4.000000000000e+00, gap 0.0000%\n",
      "Solution:\n",
      "Objective value = 4.0\n"
     ]
    }
   ],
   "source": [
    "import gurobipy as gp\n",
    "from gurobipy import GRB\n",
    "\n",
    "# Define the lines for the tic-tac-toe constraints\n",
    "lines = []\n",
    "size = 3\n",
    "\n",
    "for i in range(size):\n",
    "    for j in range(size):\n",
    "        for k in range(size):\n",
    "            if i == 0:\n",
    "                lines.append(((0,j,k), (1,j,k), (2,j,k)))\n",
    "            if j == 0:\n",
    "                lines.append(((i,0,k), (i,1,k), (i,2,k)))\n",
    "            if k == 0:\n",
    "                lines.append(((i,j,0), (i,j,1), (i,j,2)))\n",
    "            if i == 0 and j == 0:\n",
    "                lines.append(((0,0,k), (1,1,k), (2,2,k)))\n",
    "            if i == 0 and j == 2:\n",
    "                lines.append(((0,2,k), (1,1,k), (2,0,k)))\n",
    "            if i == 0 and k == 0:\n",
    "                lines.append(((0,j,0), (1,j,1), (2,j,2)))\n",
    "            if i == 0 and k == 2:\n",
    "                lines.append(((0,j,2), (1,j,1), (2,j,0)))\n",
    "            if j == 0 and k == 0:\n",
    "                lines.append(((i,0,0), (i,1,1), (i,2,2)))\n",
    "            if j == 0 and k == 2:\n",
    "                lines.append(((i,0,2), (i,1,1), (i,2,0)))\n",
    "\n",
    "# Add the diagonal lines\n",
    "lines.append(((0,0,0), (1,1,1), (2,2,2)))\n",
    "lines.append(((2,0,0), (1,1,1), (0,2,2)))\n",
    "lines.append(((0,2,0), (1,1,1), (2,0,2)))\n",
    "lines.append(((0,0,2), (1,1,1), (2,2,0)))\n",
    "\n",
    "print(len(lines))\n",
    "\n",
    "model = gp.Model(\"tic-tac\")\n",
    "\n",
    "visit = model.addVars(size, size, size, vtype=GRB.BINARY, name='visit')\n",
    "sameline = model.addVars(len(lines), vtype=GRB.BINARY, name='sameline')\n",
    "model.addConstr(sum(visit[i,j,k] for i in range(size) for j in range(size) for k in range(size)) == 14)\n",
    "\n",
    "for i, x in enumerate(lines):\n",
    "    model.addConstr(sameline[i] >= visit[x[0]] + visit[x[1]] + visit[x[2]] - 2, name=f'constraint_{i}')\n",
    "    model.addConstr(sameline[i] >= 1-(visit[x[0]] + visit[x[1]] + visit[x[2]]), name=f'constraint_{i}')\n",
    "\n",
    "model.setObjective(sum(sameline[i] for i in range(len(lines))), GRB.MINIMIZE)\n",
    "\n",
    "model.optimize()\n",
    "\n",
    "if model.status == GRB.OPTIMAL:\n",
    "    print('Solution:')\n",
    "    print(f'Objective value = {model.objVal}')\n",
    "else:\n",
    "    print('No optimal solution found')\n"
   ]
  }
 ],
 "metadata": {
  "kernelspec": {
   "display_name": "Python 3",
   "language": "python",
   "name": "python3"
  },
  "language_info": {
   "codemirror_mode": {
    "name": "ipython",
    "version": 3
   },
   "file_extension": ".py",
   "mimetype": "text/x-python",
   "name": "python",
   "nbconvert_exporter": "python",
   "pygments_lexer": "ipython3",
   "version": "3.11.9"
  }
 },
 "nbformat": 4,
 "nbformat_minor": 2
}
